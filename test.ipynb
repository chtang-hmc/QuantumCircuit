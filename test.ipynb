{
 "cells": [
  {
   "cell_type": "code",
   "execution_count": 1,
   "metadata": {},
   "outputs": [],
   "source": [
    "from qubit import *\n",
    "from circuit import *"
   ]
  },
  {
   "cell_type": "code",
   "execution_count": 2,
   "metadata": {},
   "outputs": [
    {
     "name": "stdout",
     "output_type": "stream",
     "text": [
      "[[ 0.21693046  0.97618706]\n",
      " [-0.97618706  0.21693046]]\n"
     ]
    }
   ],
   "source": [
    "b1 = Basis(states = get_orthogonal_basis(np.array([0.2,0.9])), normalize = True)\n",
    "print(b1)"
   ]
  },
  {
   "cell_type": "code",
   "execution_count": 3,
   "metadata": {},
   "outputs": [
    {
     "name": "stdout",
     "output_type": "stream",
     "text": [
      "Qubit in state [1 0] in basis [[1. 0.]\n",
      " [0. 1.]]\n",
      "[1. 0.]\n",
      "Qubit in state [0.21693046 0.97618706] in basis [[ 0.21693046  0.97618706]\n",
      " [-0.97618706  0.21693046]]\n",
      "[0.04705882 0.95294118]\n"
     ]
    }
   ],
   "source": [
    "q1 = Qubit()\n",
    "print(q1)\n",
    "print(q1.probs())\n",
    "q1.change_basis(b1)\n",
    "print(q1)\n",
    "print(q1.probs(basis = Basis()))"
   ]
  },
  {
   "cell_type": "code",
   "execution_count": 13,
   "metadata": {},
   "outputs": [
    {
     "data": {
      "text/plain": [
       "[0, 0, 0]"
      ]
     },
     "execution_count": 13,
     "metadata": {},
     "output_type": "execute_result"
    }
   ],
   "source": [
    "qc = QC(3)\n",
    "qc.h(0)\n",
    "qc.h(1)\n",
    "qc."
   ]
  },
  {
   "cell_type": "code",
   "execution_count": null,
   "metadata": {},
   "outputs": [],
   "source": [
    "a = qc.multi_run(shots = 10)\n",
    "a = list(a)\n",
    "print(a)\n",
    "# create histogram\n",
    "counts = {}\n",
    "for result in a:\n",
    "    result = tuple(result)\n",
    "    if result in counts:\n",
    "        counts[result] += 1\n",
    "    else:\n",
    "        counts[result] = 1\n",
    "print(qc.qubits)"
   ]
  },
  {
   "cell_type": "code",
   "execution_count": null,
   "metadata": {},
   "outputs": [],
   "source": []
  }
 ],
 "metadata": {
  "kernelspec": {
   "display_name": "base",
   "language": "python",
   "name": "python3"
  },
  "language_info": {
   "codemirror_mode": {
    "name": "ipython",
    "version": 3
   },
   "file_extension": ".py",
   "mimetype": "text/x-python",
   "name": "python",
   "nbconvert_exporter": "python",
   "pygments_lexer": "ipython3",
   "version": "3.11.5"
  }
 },
 "nbformat": 4,
 "nbformat_minor": 2
}

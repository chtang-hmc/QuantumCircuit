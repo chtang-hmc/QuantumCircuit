{
 "cells": [
  {
   "cell_type": "code",
   "execution_count": 2,
   "metadata": {},
   "outputs": [],
   "source": [
    "import numpy as np\n",
    "\n",
    "class basis:\n",
    "    '''\n",
    "    basis class\n",
    "    '''\n",
    "    def __init__(self, special: str = None, states = None, normalize = False):\n",
    "        '''\n",
    "        states (matrix): state in |0>, |1> basis\n",
    "        '''\n",
    "        if states is None:\n",
    "            if special is not None:\n",
    "                if special == '+-':\n",
    "                    states = np.array([[1, 1], [1, -1]])/np.sqrt(2)\n",
    "                elif special == '01':\n",
    "                    states = np.array([[1, 0], [0, 1]])\n",
    "                elif special == '10':\n",
    "                    states = np.array([[0, 1], [1, 0]])\n",
    "            else:\n",
    "                states = np.eye(2)\n",
    "                \n",
    "        assert len(states) == 2, \"Basis must be 2D\"\n",
    "        for state in states:\n",
    "            assert len(state) == 2, \"Basis must be 2D\"\n",
    "        assert np.isclose(np.dot(np.conj(states[0]), states[1]), 0), \"Basis states must be orthogonal\"\n",
    "        if normalize:\n",
    "            states = np.array([states[0]/np.linalg.norm(states[0]), states[1]/np.linalg.norm(states[1])])\n",
    "        else:\n",
    "            assert np.isclose(np.linalg.norm(states[0]), 1) and np.isclose(np.linalg.norm(states[1]), 1), \"Basis states must be normalized\"\n",
    "        \n",
    "        self.states = states\n",
    "        self.dim = 2\n",
    "        \n",
    "    def __str__(self):\n",
    "        return str(self.states)\n",
    "    \n",
    "    def __repr__(self):\n",
    "        return str(self.states)\n",
    "\n",
    "class qubit:\n",
    "    '''\n",
    "    qubit class\n",
    "    '''\n",
    "    def __init__(self, state = np.array([1,0]), basis = basis()):\n",
    "        norm = np.linalg.norm(state)\n",
    "        assert np.isclose(norm, 1), \"State must be normalized\"\n",
    "        self.state = state\n",
    "        self.basis = basis\n",
    "        \n",
    "    def __str__(self):\n",
    "        return str(self.state)\n",
    "    \n",
    "    def __repr__(self):\n",
    "        return str(self.state)\n",
    "\n",
    "    def _copy(self):\n",
    "        return qubit(state = self.state, basis = self.basis)\n",
    "    \n",
    "    def change_basis(self, new_basis):\n",
    "        '''\n",
    "        change the basis of the qubit\n",
    "        '''\n",
    "        self.state = np.dot(np.conj(np.transpose(new_basis.states)), self.state)\n",
    "        self.basis = new_basis\n",
    "    \n",
    "    def probs(self, basis = None):\n",
    "        '''\n",
    "        get the probabilities of measuring a basis\n",
    "        '''\n",
    "        if basis is None:\n",
    "            basis = self.basis\n",
    "        copy_qubit = self._copy()\n",
    "        copy_qubit.change_basis(basis)\n",
    "        probs = np.abs(copy_qubit.state) ** 2\n",
    "        return probs\n",
    "            \n",
    "    def measure(self, basis = None):\n",
    "        '''\n",
    "        measure the qubit in a basis\n",
    "        '''\n",
    "        if basis is None:\n",
    "            basis = self.basis\n",
    "        probs = self.probs(basis = basis)\n",
    "        result = np.random.choice([0, 1], p = probs)\n",
    "        if result == 0:\n",
    "            self.state = [1, 0]\n",
    "        else:\n",
    "            self.state = [0, 1]\n",
    "        return result"
   ]
  },
  {
   "cell_type": "code",
   "execution_count": 9,
   "metadata": {},
   "outputs": [
    {
     "name": "stdout",
     "output_type": "stream",
     "text": [
      "[1 0]\n",
      "[1. 0.]\n",
      "[0.70710678 0.70710678]\n",
      "[0.5 0.5]\n"
     ]
    }
   ],
   "source": [
    "q1 = qubit()\n",
    "print(q1)\n",
    "print(q1.probs())\n",
    "q1.change_basis(b1)\n",
    "print(q1)\n",
    "print(q1.probs(basis = basis()))"
   ]
  },
  {
   "cell_type": "code",
   "execution_count": 4,
   "metadata": {},
   "outputs": [
    {
     "name": "stdout",
     "output_type": "stream",
     "text": [
      "[[ 0.70710678  0.70710678]\n",
      " [ 0.70710678 -0.70710678]]\n"
     ]
    }
   ],
   "source": [
    "b1 = basis(special = '+-')\n",
    "print(b1)"
   ]
  },
  {
   "cell_type": "code",
   "execution_count": null,
   "metadata": {},
   "outputs": [],
   "source": []
  }
 ],
 "metadata": {
  "kernelspec": {
   "display_name": "base",
   "language": "python",
   "name": "python3"
  },
  "language_info": {
   "codemirror_mode": {
    "name": "ipython",
    "version": 3
   },
   "file_extension": ".py",
   "mimetype": "text/x-python",
   "name": "python",
   "nbconvert_exporter": "python",
   "pygments_lexer": "ipython3",
   "version": "3.11.4"
  }
 },
 "nbformat": 4,
 "nbformat_minor": 2
}

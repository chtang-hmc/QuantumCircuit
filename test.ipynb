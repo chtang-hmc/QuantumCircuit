{
 "cells": [
  {
   "cell_type": "code",
   "execution_count": 1,
   "metadata": {},
   "outputs": [],
   "source": [
    "from quantum_graph import *\n",
    "from my_graph import *"
   ]
  },
  {
   "cell_type": "code",
   "execution_count": 2,
   "metadata": {},
   "outputs": [
    {
     "name": "stderr",
     "output_type": "stream",
     "text": [
      "/Users/jeudi/QuantumCircuit/my_graph.py:91: RuntimeWarning: divide by zero encountered in log\n",
      "  node.set_weight(qubit, -np.log(np.exp(-x)*a + np.exp(-y)*b))\n",
      "/Users/jeudi/QuantumCircuit/my_graph.py:95: RuntimeWarning: divide by zero encountered in log\n",
      "  node.set_weight(self.other(qubit), -np.log(np.exp(-x)*c + np.exp(-y)*d))\n",
      "/Users/jeudi/QuantumCircuit/my_graph.py:95: RuntimeWarning: invalid value encountered in log\n",
      "  node.set_weight(self.other(qubit), -np.log(np.exp(-x)*c + np.exp(-y)*d))\n"
     ]
    }
   ],
   "source": [
    "q = Qubits(3)\n",
    "# construct quantum fourier transform for 3 qubits\n",
    "q.X(2)\n",
    "q.H(1)\n",
    "q.CS(2,1)\n",
    "q.CT(3,1)\n",
    "q.H(2)\n",
    "q.CS(3,2)\n",
    "q.H(3)\n",
    "q.swap(1,3)\n",
    "a = q.matrix()"
   ]
  },
  {
   "cell_type": "code",
   "execution_count": 3,
   "metadata": {},
   "outputs": [
    {
     "name": "stdout",
     "output_type": "stream",
     "text": [
      "[[0. 1. 1. 1. 0. 0. 0.]\n",
      " [0. 1. 1. 1. 0. 0. 0.]\n",
      " [0. 1. 1. 1. 0. 0. 0.]\n",
      " [0. 1. 1. 1. 0. 0. 0.]\n",
      " [0. 0. 0. 0. 1. 1. 1.]\n",
      " [0. 0. 0. 0. 1. 1. 1.]\n",
      " [0. 0. 0. 0. 1. 1. 1.]]\n",
      "[[0.         0.70710678 1.         1.         0.70710678 0.\n",
      "  0.        ]\n",
      " [0.         1.         1.         1.         0.         0.\n",
      "  0.        ]\n",
      " [0.         0.70710678 1.         1.         0.70710678 0.\n",
      "  0.        ]\n",
      " [0.         0.70710678 1.         1.         0.70710678 0.\n",
      "  0.        ]\n",
      " [0.         0.70710678 0.         0.                nan 1.\n",
      "  1.        ]\n",
      " [0.         0.70710678 0.         0.                nan 1.\n",
      "  1.        ]\n",
      " [0.         0.70710678 0.         0.                nan 1.\n",
      "  1.        ]]\n"
     ]
    }
   ],
   "source": [
    "q = Qubits(3)\n",
    "# construct quantum fourier transform for 3 qubits\n",
    "print(q.matrix())\n",
    "q.H(1)\n",
    "print(q.matrix())"
   ]
  },
  {
   "cell_type": "code",
   "execution_count": null,
   "metadata": {},
   "outputs": [],
   "source": []
  }
 ],
 "metadata": {
  "kernelspec": {
   "display_name": "base",
   "language": "python",
   "name": "python3"
  },
  "language_info": {
   "codemirror_mode": {
    "name": "ipython",
    "version": 3
   },
   "file_extension": ".py",
   "mimetype": "text/x-python",
   "name": "python",
   "nbconvert_exporter": "python",
   "pygments_lexer": "ipython3",
   "version": "3.11.5"
  }
 },
 "nbformat": 4,
 "nbformat_minor": 2
}

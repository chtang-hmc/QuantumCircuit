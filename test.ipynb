{
 "cells": [
  {
   "cell_type": "code",
   "execution_count": 1,
   "metadata": {},
   "outputs": [],
   "source": [
    "from quantum_graph import *\n",
    "from my_graph import *"
   ]
  },
  {
   "cell_type": "code",
   "execution_count": 6,
   "metadata": {},
   "outputs": [
    {
     "name": "stdout",
     "output_type": "stream",
     "text": [
      "[[1. 1. 1. ... 0. 0. 0.]\n",
      " [0. 1. 1. ... 0. 0. 0.]\n",
      " [0. 1. 1. ... 0. 0. 0.]\n",
      " ...\n",
      " [0. 0. 0. ... 1. 1. 1.]\n",
      " [0. 0. 0. ... 1. 1. 1.]\n",
      " [0. 0. 0. ... 1. 1. 1.]]\n",
      "[[1.         0.70710678 0.70710678 ... 0.70710678 0.70710678 0.70710678]\n",
      " [0.         1.         0.70710678 ... 0.70710678 0.70710678 0.70710678]\n",
      " [0.         0.70710678 1.         ... 0.70710678 0.70710678 0.70710678]\n",
      " ...\n",
      " [0.         0.70710678 0.70710678 ...        nan        nan        nan]\n",
      " [0.         0.70710678 0.70710678 ...        nan        nan        nan]\n",
      " [0.         0.70710678 0.70710678 ...        nan        nan        nan]]\n",
      "[[1.  0.5 0.5 ... 0.5 0.5 0.5]\n",
      " [0.  1.  0.5 ... 0.5 0.5 0.5]\n",
      " [0.  0.5 1.  ... 0.5 0.5 0.5]\n",
      " ...\n",
      " [0.  0.5 0.5 ... nan nan nan]\n",
      " [0.  0.5 0.5 ... nan nan nan]\n",
      " [0.  0.5 0.5 ... nan nan nan]]\n"
     ]
    }
   ],
   "source": [
    "q = Qubits(100)\n",
    "print(q.matrix())\n",
    "q.create_equal_superposition()\n",
    "print(q.matrix())\n",
    "q.H(4)\n",
    "print(q.prob_matrix())"
   ]
  },
  {
   "cell_type": "code",
   "execution_count": null,
   "metadata": {},
   "outputs": [],
   "source": []
  }
 ],
 "metadata": {
  "kernelspec": {
   "display_name": "base",
   "language": "python",
   "name": "python3"
  },
  "language_info": {
   "codemirror_mode": {
    "name": "ipython",
    "version": 3
   },
   "file_extension": ".py",
   "mimetype": "text/x-python",
   "name": "python",
   "nbconvert_exporter": "python",
   "pygments_lexer": "ipython3",
   "version": "3.11.5"
  }
 },
 "nbformat": 4,
 "nbformat_minor": 2
}

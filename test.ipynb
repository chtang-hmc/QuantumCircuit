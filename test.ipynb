{
 "cells": [
  {
   "cell_type": "code",
   "execution_count": 1,
   "metadata": {},
   "outputs": [],
   "source": [
    "from quantum_graph import *\n",
    "from my_graph import *"
   ]
  },
  {
   "cell_type": "code",
   "execution_count": 5,
   "metadata": {},
   "outputs": [
    {
     "name": "stdout",
     "output_type": "stream",
     "text": [
      "[[ 0.  0.  0.  0. inf inf inf]\n",
      " [inf  0.  0.  0. inf inf inf]\n",
      " [inf  0.  0.  0. inf inf inf]\n",
      " [inf  0.  0.  0. inf inf inf]\n",
      " [inf inf inf inf  0. inf inf]\n",
      " [inf inf inf inf inf  0. inf]\n",
      " [inf inf inf inf inf inf  0.]]\n",
      "[[0.         0.34657359 0.34657359 0.34657359 0.34657359 0.34657359\n",
      "  0.34657359]\n",
      " [       inf 0.         0.34657359 0.34657359        inf 0.34657359\n",
      "  0.34657359]\n",
      " [       inf 0.34657359 0.         0.34657359 0.34657359        inf\n",
      "  0.34657359]\n",
      " [       inf 0.34657359 0.34657359 0.         0.34657359 0.34657359\n",
      "         inf]\n",
      " [       inf 0.34657359        inf        inf        nan        inf\n",
      "         inf]\n",
      " [       inf        inf 0.34657359        inf        inf        nan\n",
      "         inf]\n",
      " [       inf        inf        inf 0.34657359        inf        inf\n",
      "         nan]]\n"
     ]
    },
    {
     "name": "stderr",
     "output_type": "stream",
     "text": [
      "/Users/jeudi/QuantumCircuit/my_graph.py:92: RuntimeWarning: invalid value encountered in log\n",
      "  node.set_weight(self.other(qubit), -np.log(np.exp(-x)*c + np.exp(-y)*d))\n",
      "/Users/jeudi/QuantumCircuit/my_graph.py:90: RuntimeWarning: divide by zero encountered in log\n",
      "  self.add_edge(node, qubit, -np.log(np.exp(-x)*a + np.exp(-y)*b))\n",
      "/Users/jeudi/QuantumCircuit/my_graph.py:94: RuntimeWarning: divide by zero encountered in log\n",
      "  self.add_edge(node, self.other(qubit), -np.log(np.exp(-x)*c + np.exp(-y)*d))\n"
     ]
    }
   ],
   "source": [
    "q = Qubits(3)\n",
    "print(q.log_matrix())\n",
    "q.create_equal_superposition()\n",
    "print(q.log_matrix())"
   ]
  },
  {
   "cell_type": "code",
   "execution_count": null,
   "metadata": {},
   "outputs": [],
   "source": []
  }
 ],
 "metadata": {
  "kernelspec": {
   "display_name": "base",
   "language": "python",
   "name": "python3"
  },
  "language_info": {
   "codemirror_mode": {
    "name": "ipython",
    "version": 3
   },
   "file_extension": ".py",
   "mimetype": "text/x-python",
   "name": "python",
   "nbconvert_exporter": "python",
   "pygments_lexer": "ipython3",
   "version": "3.11.5"
  }
 },
 "nbformat": 4,
 "nbformat_minor": 2
}
